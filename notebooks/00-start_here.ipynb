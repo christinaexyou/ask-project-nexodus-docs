{
 "cells": [
  {
   "cell_type": "code",
   "execution_count": 1,
   "id": "800ad6f4-abaa-4b7a-9cf0-16a32f02a2f6",
   "metadata": {},
   "outputs": [
    {
     "name": "stdout",
     "output_type": "stream",
     "text": [
      "\n",
      "\u001b[1m[\u001b[0m\u001b[34;49mnotice\u001b[0m\u001b[1;39;49m]\u001b[0m\u001b[39;49m A new release of pip is available: \u001b[0m\u001b[31;49m23.1.2\u001b[0m\u001b[39;49m -> \u001b[0m\u001b[32;49m23.2.1\u001b[0m\n",
      "\u001b[1m[\u001b[0m\u001b[34;49mnotice\u001b[0m\u001b[1;39;49m]\u001b[0m\u001b[39;49m To update, run: \u001b[0m\u001b[32;49mpip install --upgrade pip\u001b[0m\n"
     ]
    }
   ],
   "source": [
    "!pip install -q -r requirements.txt"
   ]
  },
  {
   "cell_type": "code",
   "execution_count": 2,
   "id": "89be234c-342e-4a61-9582-57d59d362a75",
   "metadata": {},
   "outputs": [],
   "source": [
    "# import required libraries and packages\n",
    "import os\n",
    "import glob\n",
    "import pickle\n",
    "\n",
    "import re\n",
    "from pprint import pprint\n",
    "\n",
    "import pandas as pd\n",
    "\n",
    "from langchain.document_loaders import UnstructuredMarkdownLoader\n",
    "from langchain.text_splitter import CharacterTextSplitter\n",
    "from langchain.embeddings import HuggingFaceEmbeddings\n",
    "from langchain.schema import Document\n",
    "from langchain.vectorstores import FAISS\n",
    "from langchain import HuggingFaceHub\n",
    "from langchain.chains import RetrievalQA\n",
    "\n",
    "from transformers import pipeline"
   ]
  },
  {
   "cell_type": "code",
   "execution_count": 3,
   "id": "d5185754-31b8-4858-aab3-6890b41c6dcc",
   "metadata": {},
   "outputs": [
    {
     "data": {
      "text/plain": [
       "'/opt/app-root/src/ask_project_nexodus_docs'"
      ]
     },
     "execution_count": 3,
     "metadata": {},
     "output_type": "execute_result"
    }
   ],
   "source": [
    "# change working directory to root\n",
    "os.chdir('../')\n",
    "os.getcwd()"
   ]
  },
  {
   "cell_type": "markdown",
   "id": "185a6c7c-ea36-46f0-a54e-62f5e48b1408",
   "metadata": {},
   "source": [
    "## Create Validation Dataset"
   ]
  },
  {
   "cell_type": "code",
   "execution_count": 4,
   "id": "48dae47a-666a-476f-88a4-9c1e57caaa2b",
   "metadata": {},
   "outputs": [
    {
     "data": {
      "text/html": [
       "<div>\n",
       "<style scoped>\n",
       "    .dataframe tbody tr th:only-of-type {\n",
       "        vertical-align: middle;\n",
       "    }\n",
       "\n",
       "    .dataframe tbody tr th {\n",
       "        vertical-align: top;\n",
       "    }\n",
       "\n",
       "    .dataframe thead th {\n",
       "        text-align: right;\n",
       "    }\n",
       "</style>\n",
       "<table border=\"1\" class=\"dataframe\">\n",
       "  <thead>\n",
       "    <tr style=\"text-align: right;\">\n",
       "      <th></th>\n",
       "      <th>questions</th>\n",
       "      <th>answers</th>\n",
       "    </tr>\n",
       "  </thead>\n",
       "  <tbody>\n",
       "    <tr>\n",
       "      <th>0</th>\n",
       "      <td>What is the purpose of the `ifconfig` command ...</td>\n",
       "      <td>The `ifconfig` command is used to configure th...</td>\n",
       "    </tr>\n",
       "    <tr>\n",
       "      <th>1</th>\n",
       "      <td>How would you add a static IP to a Linux machine?</td>\n",
       "      <td>You can add a static IP to a Linux machine by ...</td>\n",
       "    </tr>\n",
       "    <tr>\n",
       "      <th>2</th>\n",
       "      <td>What is WireGuard?</td>\n",
       "      <td>WireGuard is an open-source VPN solution that ...</td>\n",
       "    </tr>\n",
       "    <tr>\n",
       "      <th>3</th>\n",
       "      <td>How would you install WireGuard on a Linux mac...</td>\n",
       "      <td>Typically, you would use a package manager suc...</td>\n",
       "    </tr>\n",
       "    <tr>\n",
       "      <th>4</th>\n",
       "      <td>How do you check the current IP address of you...</td>\n",
       "      <td>You can use the `ip addr show` command to disp...</td>\n",
       "    </tr>\n",
       "  </tbody>\n",
       "</table>\n",
       "</div>"
      ],
      "text/plain": [
       "                                           questions  \\\n",
       "0  What is the purpose of the `ifconfig` command ...   \n",
       "1  How would you add a static IP to a Linux machine?   \n",
       "2                                 What is WireGuard?   \n",
       "3  How would you install WireGuard on a Linux mac...   \n",
       "4  How do you check the current IP address of you...   \n",
       "\n",
       "                                             answers  \n",
       "0  The `ifconfig` command is used to configure th...  \n",
       "1  You can add a static IP to a Linux machine by ...  \n",
       "2  WireGuard is an open-source VPN solution that ...  \n",
       "3  Typically, you would use a package manager suc...  \n",
       "4  You can use the `ip addr show` command to disp...  "
      ]
     },
     "metadata": {},
     "output_type": "display_data"
    }
   ],
   "source": [
    "with open('data/Network-Training-QAs.md', 'r') as f:\n",
    "    content = f.read()\n",
    "    \n",
    "content = content.split('\\n')\n",
    "\n",
    "section_title = []\n",
    "questions = []\n",
    "answers = []\n",
    "\n",
    "for line in content:\n",
    "    ## get section title\n",
    "    # if line.startswith('###'):\n",
    "    #     line = line.replace('###', '')\n",
    "    #     section_title.append(line.strip())\n",
    "    # get questions\n",
    "    if '**Q**' in line:\n",
    "        # remove question number \n",
    "        line = ''.join(char for char in line if not char.isdigit())\n",
    "        # # remove **Q**\n",
    "        line = line.replace('. **Q**: ', '')\n",
    "        questions.append(line.strip())\n",
    "    elif '**A**' in line:\n",
    "        line = line.replace('**A**: ', '')\n",
    "        answers.append(line.strip())\n",
    "    else:\n",
    "        continue\n",
    "\n",
    "    \n",
    "nexodus_qa_df = pd.DataFrame(list(zip(questions, answers)), columns = ['questions', 'answers'])\n",
    "display(nexodus_qa_df.head())"
   ]
  },
  {
   "cell_type": "markdown",
   "id": "4e68872d-0a56-485f-8646-62f754b09159",
   "metadata": {},
   "source": [
    "## Generative QA"
   ]
  },
  {
   "cell_type": "code",
   "execution_count": 5,
   "id": "9987ace4-478e-4588-9c06-3956055ebc94",
   "metadata": {},
   "outputs": [
    {
     "data": {
      "text/html": [
       "<div>\n",
       "<style scoped>\n",
       "    .dataframe tbody tr th:only-of-type {\n",
       "        vertical-align: middle;\n",
       "    }\n",
       "\n",
       "    .dataframe tbody tr th {\n",
       "        vertical-align: top;\n",
       "    }\n",
       "\n",
       "    .dataframe thead th {\n",
       "        text-align: right;\n",
       "    }\n",
       "</style>\n",
       "<table border=\"1\" class=\"dataframe\">\n",
       "  <thead>\n",
       "    <tr style=\"text-align: right;\">\n",
       "      <th></th>\n",
       "      <th>questions</th>\n",
       "      <th>answers</th>\n",
       "      <th>generated_answers</th>\n",
       "    </tr>\n",
       "  </thead>\n",
       "  <tbody>\n",
       "    <tr>\n",
       "      <th>0</th>\n",
       "      <td>What is the purpose of the `ifconfig` command ...</td>\n",
       "      <td>The `ifconfig` command is used to configure th...</td>\n",
       "      <td>The ifconfig command in Linux is used to confi...</td>\n",
       "    </tr>\n",
       "    <tr>\n",
       "      <th>1</th>\n",
       "      <td>How would you add a static IP to a Linux machine?</td>\n",
       "      <td>You can add a static IP to a Linux machine by ...</td>\n",
       "      <td>To add a static IP to a Linux machine, you wil...</td>\n",
       "    </tr>\n",
       "    <tr>\n",
       "      <th>2</th>\n",
       "      <td>What is WireGuard?</td>\n",
       "      <td>WireGuard is an open-source VPN solution that ...</td>\n",
       "      <td>WireGuard is a software application that prote...</td>\n",
       "    </tr>\n",
       "    <tr>\n",
       "      <th>3</th>\n",
       "      <td>How would you install WireGuard on a Linux mac...</td>\n",
       "      <td>Typically, you would use a package manager suc...</td>\n",
       "      <td>To install WireGuard on a Linux machine, you w...</td>\n",
       "    </tr>\n",
       "    <tr>\n",
       "      <th>4</th>\n",
       "      <td>How do you check the current IP address of you...</td>\n",
       "      <td>You can use the `ip addr show` command to disp...</td>\n",
       "      <td>In Linux, you can check the current IP address...</td>\n",
       "    </tr>\n",
       "  </tbody>\n",
       "</table>\n",
       "</div>"
      ],
      "text/plain": [
       "                                           questions  \\\n",
       "0  What is the purpose of the `ifconfig` command ...   \n",
       "1  How would you add a static IP to a Linux machine?   \n",
       "2                                 What is WireGuard?   \n",
       "3  How would you install WireGuard on a Linux mac...   \n",
       "4  How do you check the current IP address of you...   \n",
       "\n",
       "                                             answers  \\\n",
       "0  The `ifconfig` command is used to configure th...   \n",
       "1  You can add a static IP to a Linux machine by ...   \n",
       "2  WireGuard is an open-source VPN solution that ...   \n",
       "3  Typically, you would use a package manager suc...   \n",
       "4  You can use the `ip addr show` command to disp...   \n",
       "\n",
       "                                   generated_answers  \n",
       "0  The ifconfig command in Linux is used to confi...  \n",
       "1  To add a static IP to a Linux machine, you wil...  \n",
       "2  WireGuard is a software application that prote...  \n",
       "3  To install WireGuard on a Linux machine, you w...  \n",
       "4  In Linux, you can check the current IP address...  "
      ]
     },
     "metadata": {},
     "output_type": "display_data"
    }
   ],
   "source": [
    "generated_answers = []\n",
    "\n",
    "text2text_generator = pipeline(\"text2text-generation\", model=\"declare-lab/flan-alpaca-large\")\n",
    "\n",
    "for question in nexodus_qa_df['questions']:\n",
    "    question = 'question: ' + question \n",
    "    generated_answer = text2text_generator(question, min_length=5, max_length=50)\n",
    "    generated_answer = generated_answer[0]['generated_text']\n",
    "    generated_answers.append(generated_answer)\n",
    "    \n",
    "nexodus_qa_df['generated_answers'] = generated_answers\n",
    "display(nexodus_qa_df.head())"
   ]
  },
  {
   "cell_type": "markdown",
   "id": "163f1f19-a9aa-420d-9286-d016d8708b2e",
   "metadata": {},
   "source": [
    "## Extractive QA"
   ]
  },
  {
   "cell_type": "code",
   "execution_count": 6,
   "id": "03106c11-7727-49b6-9671-357e1ecf482b",
   "metadata": {},
   "outputs": [],
   "source": [
    "MD_DIR = 'data'\n",
    "md_files = []\n",
    "\n",
    "for file in glob.glob(os.path.join (MD_DIR, \"docs/**/*.md\"), recursive = True):\n",
    "    if file.endswith('.md'):\n",
    "        md_files.append(file)"
   ]
  },
  {
   "cell_type": "code",
   "execution_count": 7,
   "id": "a31c58d3-a472-4007-b11c-15f79a010764",
   "metadata": {},
   "outputs": [
    {
     "name": "stdout",
     "output_type": "stream",
     "text": [
      "huggingface/tokenizers: The current process just got forked, after parallelism has already been used. Disabling parallelism to avoid deadlocks...\n",
      "To disable this warning, you can either:\n",
      "\t- Avoid using `tokenizers` before the fork if possible\n",
      "\t- Explicitly set the environment variable TOKENIZERS_PARALLELISM=(true | false)\n",
      "huggingface/tokenizers: The current process just got forked, after parallelism has already been used. Disabling parallelism to avoid deadlocks...\n",
      "To disable this warning, you can either:\n",
      "\t- Avoid using `tokenizers` before the fork if possible\n",
      "\t- Explicitly set the environment variable TOKENIZERS_PARALLELISM=(true | false)\n"
     ]
    },
    {
     "name": "stderr",
     "output_type": "stream",
     "text": [
      "Created a chunk of size 1971, which is longer than the specified 1000\n"
     ]
    },
    {
     "name": "stdout",
     "output_type": "stream",
     "text": [
      "Number documents: 41\n",
      "Number chunks: 222\n"
     ]
    }
   ],
   "source": [
    "# preprocess the documents\n",
    "docs = [UnstructuredMarkdownLoader(f).load()[0] for f in md_files]\n",
    "\n",
    "# # split it into chunks \n",
    "doc_chunks = CharacterTextSplitter(separator = \"\\n\", chunk_size=1000, chunk_overlap=0).split_documents(docs)\n",
    "\n",
    "\n",
    "print(f\"Number documents: {len(docs)}\")\n",
    "print(f\"Number chunks: {len(doc_chunks)}\")"
   ]
  },
  {
   "cell_type": "code",
   "execution_count": 8,
   "id": "adf86f1a-ebe9-4f57-8f7e-25dd0f39fe06",
   "metadata": {},
   "outputs": [],
   "source": [
    "def prettify_chunks(doc_chunks):\n",
    "    prettify_doc_chunks = []\n",
    "\n",
    "    for chunk in doc_chunks:\n",
    "        prettify_doc = chunk.page_content.lower()\n",
    "        prettify_doc = re.sub(r'[^\\w\\s\\n]', '', prettify_doc)\n",
    "        prettify_doc = prettify_doc.split('\\n')\n",
    "        \n",
    "        text = ' '.join(map(str, prettify_doc[1:]))\n",
    "    \n",
    "        doc = Document(page_content = text, \n",
    "                       metadata = {'source': chunk.metadata['source'], 'section_title': prettify_doc[0]}\n",
    "                       )\n",
    "        prettify_doc_chunks.append(doc)\n",
    "    return prettify_doc_chunks"
   ]
  },
  {
   "cell_type": "code",
   "execution_count": 9,
   "id": "14142cbc-9d2a-415a-8bfa-649822c16807",
   "metadata": {},
   "outputs": [
    {
     "data": {
      "text/plain": [
       "[Document(page_content='this guide will walk you through getting your first devices connected via nexodus install and start the nexodus agent fedora centos stream supported versions fedora 38 x86_64 aarch64 centos stream 9 x86_64 aarch64 sh enable the copr repository and install the nexodus package sudo dnf copr enable russellbnexodus sudo dnf install nexodus start the nexodus service and set it to automatically start on boot sudo systemctl start nexodus sudo systemctl enable nexodus  edit etcsysconfignexodus if you plan to use a nexodus service other than httpstrynexodusio query the status of nexd and follow the instructions to register your device sh sudo nexctl nexd status brew for mac you can install the nexodus agent via homebrew sh brew tap nexodusionexodus brew install nexodus to start the nexd agent and also have it start automatically on boot run sh sudo brew services start nexodus', metadata={'source': 'data/docs/quickstart.md', 'section_title': 'quick start'}),\n",
       " Document(page_content='sh sudo nexctl nexd status docker or podman for testing purposes you can run the nexodus agent in a container the following command will start a container and launch a shell inside it sh docker run rm it capadd sys_module capadd net_admin capadd net_raw      sysctl netipv6confalldisable_ipv60 quayionexodusnexd once the container is running start nexd and follow the instructions to register your device sh nexd httpstrynexodusio other download the latest release package for your os and architecture each release includes a nexd binary and a nexctl binary linux x8664 linux arm64 linux arm mac x8664 mac arm64 m1 m2 windows x8664 extract and install the binaries for example on linux x8664 sh tar xzf nexoduslinuxamd64targz cd nexoduslinuxamd64 sudo install m 755 nexd nexctl usrlocalbin start nexd with sudo and follow the instructions to register your device sh', metadata={'source': 'data/docs/quickstart.md', 'section_title': 'query the status of nexd and follow the instructions to register your device'}),\n",
       " Document(page_content='test connectivity once you have the agent installed and running you can test connectivity between your devices to determine the ip address assigned to each device you can check the service web interface at httpstrynexodusio look the nexd logs or get the ip using nexctl sh sudo nexctl nexd get tunnelip sudo nexctl nexd get tunnelip ipv6 try ping or whatever other connectivity test you prefer sh ping 10010001 alternatively you can verify connectivity to the devices peers with the following shell sudo nexctl nexd peers ping', metadata={'source': 'data/docs/quickstart.md', 'section_title': 'sudo nexd httpstrynexodusio'}),\n",
       " Document(page_content='documentation can be viewed at httpsdocsnexodusio', metadata={'source': 'data/docs/README.md', 'section_title': 'nexodus documentation'}),\n",
       " Document(page_content='welcome to the nexodus project documentation a rendered version of these docs are available at httpsdocsnexodusio you can also visit the project home page at httpsnexodusio feedback is welcome via github issues project vision this project aims to provide connectivity between nodes deployed across heterogeneous environments edge public private and hybrid cloud with different visibilities nodes in a cloud vpc nodes behind nat etc this solution is not specific to any infrastructure or application platform but focuses on providing connectivity between nodes and the container or vm workloads running on those nodes this service is complementary to platformsspecific networking as it can expand connectivity to places the platform could not reach otherwise some of the features and use cases that this project aims to support are edge networking  connectivity to any node anywhere hybrid data center connectivity  circumvents nat challenges', metadata={'source': 'data/docs/index.md', 'section_title': 'documentation home'})]"
      ]
     },
     "metadata": {},
     "output_type": "display_data"
    }
   ],
   "source": [
    "pretty_doc_chunks = prettify_chunks(doc_chunks)\n",
    "display(pretty_doc_chunks[:5])"
   ]
  },
  {
   "cell_type": "code",
   "execution_count": 10,
   "id": "883230fa-5fdf-4fbd-8322-fe9b2c5b2053",
   "metadata": {},
   "outputs": [],
   "source": [
    "# initalize embedder \n",
    "embeddings = HuggingFaceEmbeddings()\n",
    "\n",
    "# transform doc chunks into embeddings and store in vector db \n",
    "db = FAISS.from_documents(pretty_doc_chunks, embeddings)\n",
    "\n",
    "# save db to local directory\n",
    "db.save_local(\"models/nexodus_index.faiss\")"
   ]
  },
  {
   "cell_type": "code",
   "execution_count": 11,
   "id": "09722fd5-0b3d-417f-bdf9-a8da86157a06",
   "metadata": {},
   "outputs": [],
   "source": [
    "# load db from local directory for inference\n",
    "db = FAISS.load_local(\"models/nexodus_index.faiss\", embeddings)"
   ]
  },
  {
   "cell_type": "code",
   "execution_count": 13,
   "id": "c4052d27-2582-42ff-9ea7-d288a46a0d80",
   "metadata": {},
   "outputs": [
    {
     "data": {
      "text/plain": [
       "100"
      ]
     },
     "metadata": {},
     "output_type": "display_data"
    },
    {
     "data": {
      "text/plain": [
       "100"
      ]
     },
     "metadata": {},
     "output_type": "display_data"
    }
   ],
   "source": [
    "extracted_answers = []\n",
    "source_titles = []\n",
    "for question in nexodus_qa_df['questions']:\n",
    "    top_match = db.similarity_search(question, k=1)\n",
    "    extracted_answer = top_match[0].page_content\n",
    "    source_title = top_match[0].metadata['source']\n",
    "    extracted_answers.append(extracted_answer)\n",
    "    source_titles.append(source_title)\n",
    "    \n",
    "# sanity check\n",
    "display(len(extracted_answers))\n",
    "display(len(source_titles))"
   ]
  },
  {
   "cell_type": "code",
   "execution_count": 14,
   "id": "174f18d7-c37e-4c53-98a5-1d779d972cef",
   "metadata": {},
   "outputs": [
    {
     "data": {
      "text/html": [
       "<div>\n",
       "<style scoped>\n",
       "    .dataframe tbody tr th:only-of-type {\n",
       "        vertical-align: middle;\n",
       "    }\n",
       "\n",
       "    .dataframe tbody tr th {\n",
       "        vertical-align: top;\n",
       "    }\n",
       "\n",
       "    .dataframe thead th {\n",
       "        text-align: right;\n",
       "    }\n",
       "</style>\n",
       "<table border=\"1\" class=\"dataframe\">\n",
       "  <thead>\n",
       "    <tr style=\"text-align: right;\">\n",
       "      <th></th>\n",
       "      <th>questions</th>\n",
       "      <th>answers</th>\n",
       "      <th>generated_answers</th>\n",
       "      <th>extracted_answers</th>\n",
       "    </tr>\n",
       "  </thead>\n",
       "  <tbody>\n",
       "    <tr>\n",
       "      <th>0</th>\n",
       "      <td>What is the purpose of the `ifconfig` command ...</td>\n",
       "      <td>The `ifconfig` command is used to configure th...</td>\n",
       "      <td>The ifconfig command in Linux is used to confi...</td>\n",
       "      <td>ipprotocol ipv4  proto         frompor...</td>\n",
       "    </tr>\n",
       "    <tr>\n",
       "      <th>1</th>\n",
       "      <td>How would you add a static IP to a Linux machine?</td>\n",
       "      <td>You can add a static IP to a Linux machine by ...</td>\n",
       "      <td>To add a static IP to a Linux machine, you wil...</td>\n",
       "      <td>this guide will walk you through getting your ...</td>\n",
       "    </tr>\n",
       "    <tr>\n",
       "      <th>2</th>\n",
       "      <td>What is WireGuard?</td>\n",
       "      <td>WireGuard is an open-source VPN solution that ...</td>\n",
       "      <td>WireGuard is a software application that prote...</td>\n",
       "      <td>relay node the relay needs to have v6 forwardi...</td>\n",
       "    </tr>\n",
       "    <tr>\n",
       "      <th>3</th>\n",
       "      <td>How would you install WireGuard on a Linux mac...</td>\n",
       "      <td>Typically, you would use a package manager suc...</td>\n",
       "      <td>To install WireGuard on a Linux machine, you w...</td>\n",
       "      <td>relay node the relay needs to have v6 forwardi...</td>\n",
       "    </tr>\n",
       "    <tr>\n",
       "      <th>4</th>\n",
       "      <td>How do you check the current IP address of you...</td>\n",
       "      <td>You can use the `ip addr show` command to disp...</td>\n",
       "      <td>In Linux, you can check the current IP address...</td>\n",
       "      <td>ipprotocol ipv4  proto         frompor...</td>\n",
       "    </tr>\n",
       "  </tbody>\n",
       "</table>\n",
       "</div>"
      ],
      "text/plain": [
       "                                           questions  \\\n",
       "0  What is the purpose of the `ifconfig` command ...   \n",
       "1  How would you add a static IP to a Linux machine?   \n",
       "2                                 What is WireGuard?   \n",
       "3  How would you install WireGuard on a Linux mac...   \n",
       "4  How do you check the current IP address of you...   \n",
       "\n",
       "                                             answers  \\\n",
       "0  The `ifconfig` command is used to configure th...   \n",
       "1  You can add a static IP to a Linux machine by ...   \n",
       "2  WireGuard is an open-source VPN solution that ...   \n",
       "3  Typically, you would use a package manager suc...   \n",
       "4  You can use the `ip addr show` command to disp...   \n",
       "\n",
       "                                   generated_answers  \\\n",
       "0  The ifconfig command in Linux is used to confi...   \n",
       "1  To add a static IP to a Linux machine, you wil...   \n",
       "2  WireGuard is a software application that prote...   \n",
       "3  To install WireGuard on a Linux machine, you w...   \n",
       "4  In Linux, you can check the current IP address...   \n",
       "\n",
       "                                   extracted_answers  \n",
       "0          ipprotocol ipv4  proto         frompor...  \n",
       "1  this guide will walk you through getting your ...  \n",
       "2  relay node the relay needs to have v6 forwardi...  \n",
       "3  relay node the relay needs to have v6 forwardi...  \n",
       "4          ipprotocol ipv4  proto         frompor...  "
      ]
     },
     "metadata": {},
     "output_type": "display_data"
    }
   ],
   "source": [
    "nexodus_qa_df['extracted_answers'] = extracted_answers\n",
    "\n",
    "display(nexodus_qa_df.head())"
   ]
  },
  {
   "cell_type": "markdown",
   "id": "49d4d592-edd5-474b-bbc0-ab182b373da6",
   "metadata": {},
   "source": [
    "## Abstractive QA"
   ]
  },
  {
   "cell_type": "code",
   "execution_count": 15,
   "id": "88d0ca2d-acfd-4dde-ae74-01d2abea9438",
   "metadata": {},
   "outputs": [],
   "source": [
    "# given the query and context, generate the answers\n",
    "def provide_context(context):\n",
    "    context = [f\"<P> {m.page_content}\" for m in context]\n",
    "    context = \" \".join(context)\n",
    "\n",
    "    return context"
   ]
  },
  {
   "cell_type": "code",
   "execution_count": 16,
   "id": "4720f897-c954-4996-a1ec-a2ba1eb8ba94",
   "metadata": {},
   "outputs": [
    {
     "name": "stdout",
     "output_type": "stream",
     "text": [
      "huggingface/tokenizers: The current process just got forked, after parallelism has already been used. Disabling parallelism to avoid deadlocks...\n",
      "To disable this warning, you can either:\n",
      "\t- Avoid using `tokenizers` before the fork if possible\n",
      "\t- Explicitly set the environment variable TOKENIZERS_PARALLELISM=(true | false)\n",
      "huggingface/tokenizers: The current process just got forked, after parallelism has already been used. Disabling parallelism to avoid deadlocks...\n",
      "To disable this warning, you can either:\n",
      "\t- Avoid using `tokenizers` before the fork if possible\n",
      "\t- Explicitly set the environment variable TOKENIZERS_PARALLELISM=(true | false)\n",
      "huggingface/tokenizers: The current process just got forked, after parallelism has already been used. Disabling parallelism to avoid deadlocks...\n",
      "To disable this warning, you can either:\n",
      "\t- Avoid using `tokenizers` before the fork if possible\n",
      "\t- Explicitly set the environment variable TOKENIZERS_PARALLELISM=(true | false)\n",
      "huggingface/tokenizers: The current process just got forked, after parallelism has already been used. Disabling parallelism to avoid deadlocks...\n",
      "To disable this warning, you can either:\n",
      "\t- Avoid using `tokenizers` before the fork if possible\n",
      "\t- Explicitly set the environment variable TOKENIZERS_PARALLELISM=(true | false)\n"
     ]
    },
    {
     "data": {
      "text/plain": [
       "[{'score': 0.00027977206627838314,\n",
       "  'start': 579,\n",
       "  'end': 629,\n",
       "  'answer': 'all rules are applied only to the driver interface'},\n",
       " {'score': 7.717112748650834e-05,\n",
       "  'start': 2466,\n",
       "  'end': 2497,\n",
       "  'answer': 'sudo ip link del wg0 osxwindows'},\n",
       " {'score': 0.11282513290643692,\n",
       "  'start': 1339,\n",
       "  'end': 1353,\n",
       "  'answer': 'tunneling mode'},\n",
       " {'score': 1.7082244312405237e-06,\n",
       "  'start': 660,\n",
       "  'end': 665,\n",
       "  'answer': 'shell'},\n",
       " {'score': 0.0008120706188492477,\n",
       "  'start': 1226,\n",
       "  'end': 1237,\n",
       "  'answer': 'ip_protocol'}]"
      ]
     },
     "execution_count": 16,
     "metadata": {},
     "output_type": "execute_result"
    }
   ],
   "source": [
    "llm = \"deepset/roberta-base-squad2\"\n",
    "abstractive_answers = []\n",
    "\n",
    "for question in nexodus_qa_df['questions']:\n",
    "    top_3 = db.similarity_search(question, k=3)\n",
    "    context = provide_context(top_3)\n",
    "    text2text_generator = pipeline(task='question-answering', tokenizer=llm, model=llm)\n",
    "    abstractive_answer = text2text_generator(question=question, context=context,temperature=1.5, min_length=20, max_length=50)\n",
    "    abstractive_answers.append(abstractive_answer)\n",
    "abstractive_answers[:5]"
   ]
  },
  {
   "cell_type": "code",
   "execution_count": 17,
   "id": "9b8e2ebb-330f-4791-9ea2-669a2671237f",
   "metadata": {},
   "outputs": [
    {
     "data": {
      "text/html": [
       "<div>\n",
       "<style scoped>\n",
       "    .dataframe tbody tr th:only-of-type {\n",
       "        vertical-align: middle;\n",
       "    }\n",
       "\n",
       "    .dataframe tbody tr th {\n",
       "        vertical-align: top;\n",
       "    }\n",
       "\n",
       "    .dataframe thead th {\n",
       "        text-align: right;\n",
       "    }\n",
       "</style>\n",
       "<table border=\"1\" class=\"dataframe\">\n",
       "  <thead>\n",
       "    <tr style=\"text-align: right;\">\n",
       "      <th></th>\n",
       "      <th>questions</th>\n",
       "      <th>answers</th>\n",
       "      <th>generated_answers</th>\n",
       "      <th>extracted_answers</th>\n",
       "      <th>abstracted_answers</th>\n",
       "    </tr>\n",
       "  </thead>\n",
       "  <tbody>\n",
       "    <tr>\n",
       "      <th>0</th>\n",
       "      <td>What is the purpose of the `ifconfig` command ...</td>\n",
       "      <td>The `ifconfig` command is used to configure th...</td>\n",
       "      <td>The ifconfig command in Linux is used to confi...</td>\n",
       "      <td>ipprotocol ipv4  proto         frompor...</td>\n",
       "      <td>all rules are applied only to the driver inter...</td>\n",
       "    </tr>\n",
       "    <tr>\n",
       "      <th>1</th>\n",
       "      <td>How would you add a static IP to a Linux machine?</td>\n",
       "      <td>You can add a static IP to a Linux machine by ...</td>\n",
       "      <td>To add a static IP to a Linux machine, you wil...</td>\n",
       "      <td>this guide will walk you through getting your ...</td>\n",
       "      <td>sudo ip link del wg0 osxwindows</td>\n",
       "    </tr>\n",
       "    <tr>\n",
       "      <th>2</th>\n",
       "      <td>What is WireGuard?</td>\n",
       "      <td>WireGuard is an open-source VPN solution that ...</td>\n",
       "      <td>WireGuard is a software application that prote...</td>\n",
       "      <td>relay node the relay needs to have v6 forwardi...</td>\n",
       "      <td>tunneling mode</td>\n",
       "    </tr>\n",
       "    <tr>\n",
       "      <th>3</th>\n",
       "      <td>How would you install WireGuard on a Linux mac...</td>\n",
       "      <td>Typically, you would use a package manager suc...</td>\n",
       "      <td>To install WireGuard on a Linux machine, you w...</td>\n",
       "      <td>relay node the relay needs to have v6 forwardi...</td>\n",
       "      <td>shell</td>\n",
       "    </tr>\n",
       "    <tr>\n",
       "      <th>4</th>\n",
       "      <td>How do you check the current IP address of you...</td>\n",
       "      <td>You can use the `ip addr show` command to disp...</td>\n",
       "      <td>In Linux, you can check the current IP address...</td>\n",
       "      <td>ipprotocol ipv4  proto         frompor...</td>\n",
       "      <td>ip_protocol</td>\n",
       "    </tr>\n",
       "  </tbody>\n",
       "</table>\n",
       "</div>"
      ],
      "text/plain": [
       "                                           questions  \\\n",
       "0  What is the purpose of the `ifconfig` command ...   \n",
       "1  How would you add a static IP to a Linux machine?   \n",
       "2                                 What is WireGuard?   \n",
       "3  How would you install WireGuard on a Linux mac...   \n",
       "4  How do you check the current IP address of you...   \n",
       "\n",
       "                                             answers  \\\n",
       "0  The `ifconfig` command is used to configure th...   \n",
       "1  You can add a static IP to a Linux machine by ...   \n",
       "2  WireGuard is an open-source VPN solution that ...   \n",
       "3  Typically, you would use a package manager suc...   \n",
       "4  You can use the `ip addr show` command to disp...   \n",
       "\n",
       "                                   generated_answers  \\\n",
       "0  The ifconfig command in Linux is used to confi...   \n",
       "1  To add a static IP to a Linux machine, you wil...   \n",
       "2  WireGuard is a software application that prote...   \n",
       "3  To install WireGuard on a Linux machine, you w...   \n",
       "4  In Linux, you can check the current IP address...   \n",
       "\n",
       "                                   extracted_answers  \\\n",
       "0          ipprotocol ipv4  proto         frompor...   \n",
       "1  this guide will walk you through getting your ...   \n",
       "2  relay node the relay needs to have v6 forwardi...   \n",
       "3  relay node the relay needs to have v6 forwardi...   \n",
       "4          ipprotocol ipv4  proto         frompor...   \n",
       "\n",
       "                                  abstracted_answers  \n",
       "0  all rules are applied only to the driver inter...  \n",
       "1                    sudo ip link del wg0 osxwindows  \n",
       "2                                     tunneling mode  \n",
       "3                                              shell  \n",
       "4                                        ip_protocol  "
      ]
     },
     "metadata": {},
     "output_type": "display_data"
    }
   ],
   "source": [
    "abstracted_answers = [x['answer'] for x in abstractive_answers]\n",
    "nexodus_qa_df['abstracted_answers'] = abstracted_answers\n",
    "display(nexodus_qa_df.head())"
   ]
  },
  {
   "cell_type": "code",
   "execution_count": 18,
   "id": "a450a7f4-e709-4d7e-ae8b-292706467d1c",
   "metadata": {},
   "outputs": [],
   "source": [
    "# save df to csv file\n",
    "nexodus_qa_df.to_csv('data/results/nexodus_qa_df.csv')"
   ]
  }
 ],
 "metadata": {
  "kernelspec": {
   "display_name": "Python 3.9.16",
   "language": "python",
   "name": "python3"
  },
  "language_info": {
   "codemirror_mode": {
    "name": "ipython",
    "version": 3
   },
   "file_extension": ".py",
   "mimetype": "text/x-python",
   "name": "python",
   "nbconvert_exporter": "python",
   "pygments_lexer": "ipython3",
   "version": "3.9.16"
  }
 },
 "nbformat": 4,
 "nbformat_minor": 5
}
